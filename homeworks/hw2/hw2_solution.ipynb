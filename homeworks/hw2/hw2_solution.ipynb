{
 "cells": [
  {
   "cell_type": "markdown",
   "id": "dbc8c664",
   "metadata": {},
   "source": [
    "# Homework 2: Recipe Bot Error Analysis\n",
    "##### By: Ishan Gore"
   ]
  },
  {
   "cell_type": "markdown",
   "id": "ea81857a",
   "metadata": {},
   "source": [
    "Before starting the homework, let's first import all necessary packages and initialize our caller to Claude:"
   ]
  },
  {
   "cell_type": "code",
   "execution_count": null,
   "id": "bf7efec6",
   "metadata": {},
   "outputs": [],
   "source": [
    "# to help format LLM prompts\n",
    "from textwrap import dedent\n",
    "# to set a seed for sampling\n",
    "import random"
   ]
  },
  {
   "cell_type": "code",
   "execution_count": null,
   "id": "edbbf0d8",
   "metadata": {},
   "outputs": [],
   "source": [
    "# package for using LLM with AWS Bedrock\n",
    "from anthropic import AnthropicBedrock\n",
    "from claudette import models_aws, Client, Chat\n",
    "\n",
    "model_id = \"us.anthropic.claude-3-5-sonnet-20241022-v2:0\"\n",
    "ab = AnthropicBedrock(aws_profile=\"gossamer_aws_profile\", aws_region=\"us-east-1\")\n",
    "client = Client(model_id, ab)\n",
    "chat = Chat(cli=client)"
   ]
  },
  {
   "cell_type": "markdown",
   "id": "909646d5",
   "metadata": {},
   "source": [
    "## Part 1: Define Dimensions & Generate Initial Queries"
   ]
  },
  {
   "cell_type": "markdown",
   "id": "39cc72af",
   "metadata": {},
   "source": [
    "Let's first define some dimensions that we expect to see in our user queries:\n",
    "\n",
    "Dimensions:\n",
    "- cuisine_type\n",
    "    - thai\n",
    "    - jamaican\n",
    "    - nordic\n",
    "    - kyrgz\n",
    "- dietary_restrictions\n",
    "    - no restrictions\n",
    "    - vegetarian\n",
    "    - lactose intolerant and no red meat\n",
    "    - vegan and gluten free\n",
    "- complexity\n",
    "    - simple\n",
    "    - average\n",
    "    - fancy\n",
    "- time constraint\n",
    "    - 30 minutes\n",
    "    - 1 hour\n",
    "    - whole day\n",
    "- serving portion\n",
    "    - 1 person\n",
    "    - 4 people\n",
    "    - 20 people"
   ]
  },
  {
   "cell_type": "markdown",
   "id": "d26d1277",
   "metadata": {},
   "source": [
    "Now let's make an LLM prompt to take those dimensions and output a cross product of tuples:"
   ]
  },
  {
   "cell_type": "code",
   "execution_count": null,
   "id": "cd1044f3",
   "metadata": {},
   "outputs": [],
   "source": [
    "DIMENSION_CREATION_PROMPT=dedent(\"\"\"\n",
    "\n",
    "    I am in need of help with generated a set of tuples to be used as test cases for a recipe chatbot. The tuples are to be generated based on various dimensions and their possible values. The dimensions are based off of user queries that we expect to see.\n",
    "\n",
    "    Generate a list of tuples that represent the cross product (all possible combinations) of the provided dimensions and their possible values.\n",
    "\n",
    "    The tuples should be the same length as the number of dimensions provided. The format of the tuples should be:\n",
    "    (Dimension1_value, Dimension2_value, Dimension3_value, etc...)\n",
    "\n",
    "    Below are the dimensions and their possible values:\n",
    "    cuisine_type: thai, jamaican, nordic, kyrgz\n",
    "    dietary_restrictions: no restrictions, vegetarian, lactose intolerant and no red meat, vegan and gluten free\n",
    "    complexity: simple, average complexity, fancy\n",
    "    time constraint: 30 minutes, 1 hour, whole day\n",
    "    serving portion: 1 person, 4 people, 20 people\n",
    "\n",
    "    With the given dimensions and values above, generate the requested tuples. The order of the dimensions in the tuples should be as listed above. Generate 50 tuples from the cross product that are varied and reasonable so that it represents a good sample of potential user queries.\n",
    "    Each value in the tuple should be encapsulated in quotation marks \"\" to represent a string character.\n",
    "\n",
    "\"\"\")\n",
    "print(DIMENSION_CREATION_PROMPT)"
   ]
  },
  {
   "cell_type": "code",
   "execution_count": null,
   "id": "8fa22950",
   "metadata": {},
   "outputs": [],
   "source": [
    "chat(DIMENSION_CREATION_PROMPT)"
   ]
  },
  {
   "cell_type": "code",
   "execution_count": null,
   "id": "61f0e41f",
   "metadata": {},
   "outputs": [],
   "source": [
    "dimension_examples = (\n",
    "    (\"thai\", \"no restrictions\", \"simple\", \"30 minutes\", \"4 people\"),\n",
    "    (\"jamaican\", \"vegetarian\", \"average complexity\", \"1 hour\", \"4 people\"),\n",
    "    (\"nordic\", \"vegan and gluten free\", \"fancy\", \"whole day\", \"20 people\"),\n",
    "    (\"kyrgz\", \"lactose intolerant and no red meat\", \"simple\", \"1 hour\", \"4 people\"),\n",
    "    (\"thai\", \"vegetarian\", \"fancy\", \"whole day\", \"20 people\"),\n",
    "    (\"jamaican\", \"no restrictions\", \"simple\", \"30 minutes\", \"1 person\"),\n",
    "    (\"nordic\", \"lactose intolerant and no red meat\", \"average complexity\", \"1 hour\", \"4 people\"),\n",
    "    (\"kyrgz\", \"vegan and gluten free\", \"fancy\", \"whole day\", \"20 people\"),\n",
    "    (\"thai\", \"no restrictions\", \"average complexity\", \"1 hour\", \"4 people\"),\n",
    "    (\"jamaican\", \"vegetarian\", \"simple\", \"30 minutes\", \"4 people\"),\n",
    "    (\"nordic\", \"no restrictions\", \"fancy\", \"whole day\", \"20 people\"),\n",
    "    (\"kyrgz\", \"vegan and gluten free\", \"simple\", \"30 minutes\", \"1 person\"),\n",
    "    (\"thai\", \"lactose intolerant and no red meat\", \"average complexity\", \"1 hour\", \"4 people\"),\n",
    "    (\"jamaican\", \"no restrictions\", \"fancy\", \"whole day\", \"20 people\"),\n",
    "    (\"nordic\", \"vegetarian\", \"simple\", \"30 minutes\", \"4 people\"),\n",
    "    (\"kyrgz\", \"no restrictions\", \"average complexity\", \"1 hour\", \"4 people\"),\n",
    "    (\"thai\", \"vegan and gluten free\", \"fancy\", \"whole day\", \"20 people\"),\n",
    "    (\"jamaican\", \"lactose intolerant and no red meat\", \"simple\", \"30 minutes\", \"1 person\"),\n",
    "    (\"nordic\", \"no restrictions\", \"average complexity\", \"1 hour\", \"4 people\"),\n",
    "    (\"kyrgz\", \"vegetarian\", \"fancy\", \"whole day\", \"20 people\"),\n",
    "    (\"thai\", \"no restrictions\", \"simple\", \"1 hour\", \"4 people\"),\n",
    "    (\"jamaican\", \"vegan and gluten free\", \"average complexity\", \"whole day\", \"20 people\"),\n",
    "    (\"nordic\", \"lactose intolerant and no red meat\", \"fancy\", \"30 minutes\", \"4 people\"),\n",
    "    (\"kyrgz\", \"no restrictions\", \"simple\", \"1 hour\", \"1 person\"),\n",
    "    (\"thai\", \"vegetarian\", \"average complexity\", \"whole day\", \"20 people\"),\n",
    "    (\"jamaican\", \"no restrictions\", \"fancy\", \"30 minutes\", \"4 people\"),\n",
    "    (\"nordic\", \"vegan and gluten free\", \"simple\", \"1 hour\", \"4 people\"),\n",
    "    (\"kyrgz\", \"lactose intolerant and no red meat\", \"average complexity\", \"whole day\", \"20 people\"),\n",
    "    (\"thai\", \"no restrictions\", \"fancy\", \"1 hour\", \"4 people\"),\n",
    "    (\"jamaican\", \"vegetarian\", \"simple\", \"whole day\", \"20 people\"),\n",
    "    (\"nordic\", \"no restrictions\", \"average complexity\", \"30 minutes\", \"1 person\"),\n",
    "    (\"kyrgz\", \"vegan and gluten free\", \"fancy\", \"1 hour\", \"4 people\"),\n",
    "    (\"thai\", \"lactose intolerant and no red meat\", \"simple\", \"whole day\", \"20 people\"),\n",
    "    (\"jamaican\", \"no restrictions\", \"average complexity\", \"30 minutes\", \"4 people\"),\n",
    "    (\"nordic\", \"vegetarian\", \"fancy\", \"1 hour\", \"4 people\"),\n",
    "    (\"kyrgz\", \"no restrictions\", \"simple\", \"whole day\", \"20 people\"),\n",
    "    (\"thai\", \"vegan and gluten free\", \"average complexity\", \"30 minutes\", \"1 person\"),\n",
    "    (\"jamaican\", \"lactose intolerant and no red meat\", \"fancy\", \"1 hour\", \"4 people\"),\n",
    "    (\"nordic\", \"no restrictions\", \"simple\", \"whole day\", \"20 people\"),\n",
    "    (\"kyrgz\", \"vegetarian\", \"average complexity\", \"30 minutes\", \"4 people\"),\n",
    "    (\"thai\", \"no restrictions\", \"fancy\", \"1 hour\", \"1 person\"),\n",
    "    (\"jamaican\", \"vegan and gluten free\", \"simple\", \"whole day\", \"20 people\"),\n",
    "    (\"nordic\", \"lactose intolerant and no red meat\", \"average complexity\", \"30 minutes\", \"4 people\"),\n",
    "    (\"kyrgz\", \"no restrictions\", \"fancy\", \"1 hour\", \"4 people\"),\n",
    "    (\"thai\", \"vegetarian\", \"simple\", \"whole day\", \"20 people\"),\n",
    "    (\"jamaican\", \"no restrictions\", \"average complexity\", \"30 minutes\", \"1 person\"),\n",
    "    (\"nordic\", \"vegan and gluten free\", \"fancy\", \"1 hour\", \"4 people\"),\n",
    "    (\"kyrgz\", \"lactose intolerant and no red meat\", \"simple\", \"whole day\", \"20 people\"),\n",
    "    (\"thai\", \"no restrictions\", \"average complexity\", \"30 minutes\", \"4 people\"),\n",
    "    (\"jamaican\", \"vegetarian\", \"fancy\", \"1 hour\", \"20 people\")\n",
    ")"
   ]
  },
  {
   "cell_type": "code",
   "execution_count": null,
   "id": "65c08d91",
   "metadata": {},
   "outputs": [],
   "source": [
    "random.seed(42)\n",
    "dimension_samples_subset = random.sample(dimension_examples, 10)"
   ]
  },
  {
   "cell_type": "code",
   "execution_count": null,
   "id": "0d78d46e",
   "metadata": {},
   "outputs": [],
   "source": [
    "QUERY_CREATION_PROMPT = dedent(\"\"\"\n",
    "\n",
    "    I will give you a subset of the tuples you just created. For each of those tuples, generate exactly one query that represents a user asking for a recipe according to the dimensions of the corresponding tuple.\n",
    "    Vary each query in terms of characteristics like (but not limited to) length, tone, spelling, and syntax to encapsulate a broad set of potential user personalities.\n",
    "\n",
    "    Below is the subset of tuples for you to create your queries from:\n",
    "    {dimension_samples_subset}\n",
    "\n",
    "    Generate the queries.\n",
    "\n",
    "\"\"\")\n",
    "print(QUERY_CREATION_PROMPT.format(dimension_samples_subset=dimension_samples_subset))"
   ]
  },
  {
   "cell_type": "code",
   "execution_count": null,
   "id": "a4bffde7",
   "metadata": {},
   "outputs": [],
   "source": [
    "chat(QUERY_CREATION_PROMPT.format(dimension_samples_subset=dimension_samples_subset))"
   ]
  },
  {
   "cell_type": "markdown",
   "id": "c7c62273",
   "metadata": {},
   "source": [
    "Below are our final natural language test queries generated to test our recipe bot:\n",
    "\n",
    "\n",
    "**1. thai + no restrictions + fancy + 1 hour + 1 person**\n",
    "\n",
    "I'm treating myself to a fancy Thai dinner tonight! Got an hour to cook something special just for me 👨‍🍳\n",
    "\n",
    "**2. kyrgz + vegan and gluten free + fancy + whole day + 20 people**\n",
    "\n",
    "Need help planning a large Kyrgyz feast for my wedding - looking for vegan & GF options. Have all day to prepare and need to feed 20 guests. Any traditional recipes?\n",
    "\n",
    "**3. jamaican + vegetarian + average complexity + 1 hour + 4 people**\n",
    "\n",
    "Can u suggest a vegetarian jamaican recipe that'll feed my family of 4? nothing too complicated, got about an hour\n",
    "\n",
    "**4. jamaican + lactose intolerant and no red meat + simple + 30 minutes + 1 person**\n",
    "\n",
    "Quick & easy Jamaican recipe for one? Can't have dairy or red meat, and need it done in 30 mins!\n",
    "\n",
    "**5. kyrgz + no restrictions + average complexity + 1 hour + 4 people**\n",
    "\n",
    "Would love to explore Kyrgyz cuisine! Looking for a medium-difficulty recipe that serves 4. We eat everything and I've got an hour to spare.\n",
    "\n",
    "**6. nordic + vegetarian + simple + 30 minutes + 4 people**\n",
    "Help!! Need a super quick vegetarian Nordic recipe for unexpected dinner guests coming in 30 mins!!! Recipe must serve 4 ppl\n",
    "\n",
    "**7. thai + no restrictions + average complexity + 1 hour + 4 people**\n",
    "\n",
    "Hi there! Could you recommend a nice Thai dish that would work for a family dinner? We have about an hour to cook and there's four of us.\n",
    "\n",
    "**8. nordic + lactose intolerant and no red meat + average complexity + 1 hour + 4 people**\n",
    "\n",
    "Looking 4 a Nordic recipe that doesn't have dairy/red meat... cooking 4 my inlaws tonight (4ppl total). Have 1hr, nothing 2 fancy plz\n",
    "\n",
    "**9. nordic + vegetarian + fancy + 1 hour + 4 people**\n",
    "\n",
    "I desire an elegant Nordic vegetarian dish that will impress my dinner guests this evening. We are four persons in total, and I have precisely one hour to prepare it.\n",
    "\n",
    "**10. jamaican + no restrictions + simple + 30 minutes + 1 person**\n",
    "\n",
    "yo! hit me up w/ a quick jamaican recipe for lunch? got like 30 mins max lol"
   ]
  },
  {
   "cell_type": "markdown",
   "id": "3344739c",
   "metadata": {},
   "source": [
    "## Part 2: Initial Error Analysis"
   ]
  },
  {
   "cell_type": "markdown",
   "id": "5ac4c46c",
   "metadata": {},
   "source": [
    "Putting the synthetic queries generated above into a csv, we ran bulk_test.py against that csv:\n",
    "\n",
    "python scripts/bult_test.py --csv homeworks/hw2/synthetic_queries.csv\n",
    "\n",
    "The output is captured in homeworks/hw2/synthetic_queries_with_response.csv"
   ]
  }
 ],
 "metadata": {
  "kernelspec": {
   "display_name": "ai_eval_recipe_chatbot",
   "language": "python",
   "name": "python3"
  },
  "language_info": {
   "codemirror_mode": {
    "name": "ipython",
    "version": 3
   },
   "file_extension": ".py",
   "mimetype": "text/x-python",
   "name": "python",
   "nbconvert_exporter": "python",
   "pygments_lexer": "ipython3",
   "version": "3.12.11"
  }
 },
 "nbformat": 4,
 "nbformat_minor": 5
}
